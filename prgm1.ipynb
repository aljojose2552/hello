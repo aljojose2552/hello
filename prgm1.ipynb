{
  "nbformat": 4,
  "nbformat_minor": 0,
  "metadata": {
    "colab": {
      "provenance": [],
      "authorship_tag": "ABX9TyN1T4I3kkISYVfpTXz8qZyq",
      "include_colab_link": true
    },
    "kernelspec": {
      "name": "python3",
      "display_name": "Python 3"
    },
    "language_info": {
      "name": "python"
    }
  },
  "cells": [
    {
      "cell_type": "markdown",
      "metadata": {
        "id": "view-in-github",
        "colab_type": "text"
      },
      "source": [
        "<a href=\"https://colab.research.google.com/github/aljojose2552/hello/blob/main/prgm1.ipynb\" target=\"_parent\"><img src=\"https://colab.research.google.com/assets/colab-badge.svg\" alt=\"Open In Colab\"/></a>"
      ]
    },
    {
      "cell_type": "code",
      "execution_count": 12,
      "metadata": {
        "colab": {
          "base_uri": "https://localhost:8080/"
        },
        "id": "ycFOC0ZyQ6Na",
        "outputId": "989e6d60-cd95-4a2b-acfb-b9e99589f000"
      },
      "outputs": [
        {
          "output_type": "stream",
          "name": "stdout",
          "text": [
            "sum of multiple of 3 or 5 below 1000 is : 233168\n"
          ]
        }
      ],
      "source": [
        "def sumofmultiples(limit,a,b):\n",
        "  sum=0\n",
        "  for n in range(limit):\n",
        "    if n%a == 0 or n%b ==0:\n",
        "      sum += n\n",
        "  return sum\n",
        "\n",
        "limit = 1000\n",
        "a = 3\n",
        "b = 5\n",
        "result = sumofmultiples(limit,a,b)\n",
        "print(\"sum of multiple of 3 or 5 below 1000 is :\", result)\n"
      ]
    }
  ]
}